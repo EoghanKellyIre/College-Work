{
 "cells": [
  {
   "cell_type": "markdown",
   "id": "ad7483df",
   "metadata": {},
   "source": [
    "# INSY691-Advanced Topics in IS"
   ]
  },
  {
   "cell_type": "markdown",
   "id": "63a65a18",
   "metadata": {},
   "source": [
    "## Assignment 1: Enter your code after the question line. \n",
    "\n",
    "### Please enter your Student Number and Name.\n",
    "\n",
    "#### In case you do your assignment as a team, please include your and your teammate's student numbers and names below. \n",
    "#### Only one of the teammates is required to submit the assignment."
   ]
  },
  {
   "cell_type": "markdown",
   "id": "72dd7b50",
   "metadata": {},
   "source": [
    "Student Number:    "
   ]
  },
  {
   "cell_type": "markdown",
   "id": "9cc764b6",
   "metadata": {},
   "source": [
    "Name: "
   ]
  },
  {
   "cell_type": "markdown",
   "id": "9a88c973",
   "metadata": {},
   "source": [
    "Please submit a copy of the assignment via MyCourses by due date. Include your name and student number at the top of the assignment. Your submission should include the code along with the output (take a screenshot of your output) that you get when you run the code. For example, if the question is to print the string “Hello World”, your answer should comprise of:"
   ]
  },
  {
   "attachments": {
    "example-2.PNG": {
     "image/png": "[encoded data removed]"
    }
   },
   "cell_type": "markdown",
   "id": "ddfc36bb",
   "metadata": {},
   "source": [
    "![example-2.PNG](attachment:example-2.PNG)"
   ]
  },
  {
   "cell_type": "markdown",
   "id": "91229ba3",
   "metadata": {},
   "source": [
    "File Name: Assignment1_StudentNumber_Name.ipynb. Download as .ipynb after you complete your assignment and compress the file (.ipynb) when you submit by uploading on mycourses."
   ]
  },
  {
   "cell_type": "markdown",
   "id": "e3622cc2",
   "metadata": {},
   "source": [
    "### 1. Calculate the following expressions and print the result using Python."
   ]
  },
  {
   "cell_type": "markdown",
   "id": "af76ab94",
   "metadata": {},
   "source": [
    "#### a)  The initial temperature of the room is $100^\\circ F$. The temperature has decreased by $20^\\circ C$ after 5 hours. What is the room temperature after 5 hours in $^\\circ C$? (Hint: $C= (F – 32)*5/9$)                  "
   ]
  },
  {
   "cell_type": "code",
   "execution_count": null,
   "id": "2e746949",
   "metadata": {},
   "outputs": [],
   "source": []
  },
  {
   "cell_type": "markdown",
   "id": "f5d73444",
   "metadata": {},
   "source": [
    "#### b) A right-angle triangle has sides of length 18 cm and 24 cm. Calculate the length of the hypotenuse in cm. Then calculate the area and perimeter of the right-angle triangle in inches. (Hint: 1 inch = 2.54 cm)"
   ]
  },
  {
   "cell_type": "code",
   "execution_count": null,
   "id": "ef34a680",
   "metadata": {},
   "outputs": [],
   "source": []
  },
  {
   "cell_type": "markdown",
   "id": "9b95c8fd",
   "metadata": {},
   "source": [
    "#### _feedabck(graders)_\n",
    "\n",
    "\n",
    "\n",
    "\n",
    "\n",
    "\n",
    "***\n"
   ]
  },
  {
   "cell_type": "markdown",
   "id": "5ace7acb",
   "metadata": {},
   "source": [
    "### 2.\tRob earns $ \\$6,500 $ per month from his day job and $ \\$970 $ per month on his night job. He also receives a scholarship of $\\$1,800$ per month"
   ]
  },
  {
   "cell_type": "markdown",
   "id": "219a44ee",
   "metadata": {},
   "source": [
    "#### a)\tWhat is his total income per month?"
   ]
  },
  {
   "cell_type": "code",
   "execution_count": null,
   "id": "81f45132",
   "metadata": {},
   "outputs": [],
   "source": []
  },
  {
   "cell_type": "markdown",
   "id": "fd7ee033",
   "metadata": {},
   "source": [
    "####  b)\tHe has to pay 20% tax on his total income in a year. When the scholarship income is fully exempt from tax, how much tax should he pay at the end of a year? "
   ]
  },
  {
   "cell_type": "code",
   "execution_count": null,
   "id": "627eea16",
   "metadata": {},
   "outputs": [],
   "source": []
  },
  {
   "cell_type": "markdown",
   "id": "5968947c",
   "metadata": {},
   "source": [
    "#### c)\tRob spends $\\$20,000$ per year for his household expenses and $\\$1,500$ per month on groceries. Excluding his taxes and expenses, Rob could save the remaining of his income. If Rob starts new savings account with the remainder of his income from January 1st, 2022, how much money will Rob have at the end of 2027? The bank gives an annual compound interest rate of 5% and Rob does not put any money into the account during 5 years(until Dec 31st, 2027)."
   ]
  },
  {
   "cell_type": "code",
   "execution_count": null,
   "id": "7ede9961",
   "metadata": {},
   "outputs": [],
   "source": []
  },
  {
   "cell_type": "markdown",
   "id": "867a6178",
   "metadata": {},
   "source": [
    "#### _feedabck(graders)_\n",
    "\n",
    "\n",
    "\n",
    "\n",
    "\n",
    "\n",
    "***"
   ]
  },
  {
   "cell_type": "markdown",
   "id": "c419eacc",
   "metadata": {},
   "source": [
    "###  3.\tGenerate a program to get an integer number from the user. "
   ]
  },
  {
   "cell_type": "markdown",
   "id": "cba98013",
   "metadata": {},
   "source": [
    "####  a)\tDetermine if the input value is an odd number or even number."
   ]
  },
  {
   "cell_type": "code",
   "execution_count": null,
   "id": "49bd363c",
   "metadata": {},
   "outputs": [],
   "source": []
  },
  {
   "cell_type": "markdown",
   "id": "c484c263",
   "metadata": {},
   "source": [
    "####  b)\tThen determine if it is divisible by eight. If it is divisible print, “the number is divisible by 8”. If not, print “better luck next time”"
   ]
  },
  {
   "cell_type": "code",
   "execution_count": null,
   "id": "f62ca699",
   "metadata": {},
   "outputs": [],
   "source": []
  },
  {
   "cell_type": "markdown",
   "id": "9e78f2b3",
   "metadata": {},
   "source": [
    "#### _feedabck(graders)_\n",
    "\n",
    "\n",
    "\n",
    "\n",
    "\n",
    "\n",
    "***"
   ]
  },
  {
   "cell_type": "markdown",
   "id": "37954fab",
   "metadata": {},
   "source": [
    "### 4.\tSalary Calculation"
   ]
  },
  {
   "cell_type": "markdown",
   "id": "e59da165",
   "metadata": {},
   "source": [
    "#### Generate a program to print the salary of the employee based on his/her years of experience, employees are paid based on their years of work experience."
   ]
  },
  {
   "attachments": {
    "table3.png": {
     "image/png": "[encoded data removed]"
    }
   },
   "cell_type": "markdown",
   "id": "af1f621f",
   "metadata": {},
   "source": [
    "![table3.png](attachment:table3.png)"
   ]
  },
  {
   "cell_type": "markdown",
   "id": "8b6a83e3",
   "metadata": {},
   "source": [
    "#### Build the program to ask a user about his/her work experience and show the salary. When the user’s work experience is between the cut-off value (e.g., 3.5 years), round down the input value (3.5 -> 3) to one decimal place. The expected "
   ]
  },
  {
   "attachments": {
    "table4.png": {
     "image/png": "[encoded data removed]"
    }
   },
   "cell_type": "markdown",
   "id": "dc79eefa",
   "metadata": {},
   "source": [
    "![table4.png](attachment:table4.png)"
   ]
  },
  {
   "cell_type": "code",
   "execution_count": null,
   "id": "460d640d",
   "metadata": {},
   "outputs": [],
   "source": []
  },
  {
   "cell_type": "markdown",
   "id": "789ad2ac",
   "metadata": {},
   "source": [
    "#### _feedabck(graders)_\n",
    "\n",
    "\n",
    "\n",
    "\n",
    "\n",
    "\n",
    "***"
   ]
  },
  {
   "cell_type": "markdown",
   "id": "ce930189",
   "metadata": {},
   "source": [
    "### 5. String"
   ]
  },
  {
   "cell_type": "markdown",
   "id": "f8c2a218",
   "metadata": {},
   "source": [
    "A fruit vendor has 3 types of fruits in his basket (i.e. Apple- “A”, Oranges-“O”, Guava-“G”). He wants to know how many of each type he has in his basket, as the price varies depending on the type of fruit. You are given the following list which you need to copy to your Python editor and store it in a variable."
   ]
  },
  {
   "cell_type": "markdown",
   "id": "1c34dc50",
   "metadata": {},
   "source": [
    "basket= \"A-A-G-G-A-A-O-A-A-G-O-O-O-G-G-G-G-A-A-O-G-A-A\""
   ]
  },
  {
   "cell_type": "markdown",
   "id": "6cbb32a1",
   "metadata": {},
   "source": [
    "a)\tCount the number of Apples, Oranges and Guavas in the fruit vendor’s basket? \n",
    "\n",
    "The expected outcome is as follows:\n",
    "\n",
    "> apples: 10 guavas: 8 oranges: 5"
   ]
  },
  {
   "cell_type": "code",
   "execution_count": null,
   "id": "86de9653",
   "metadata": {},
   "outputs": [],
   "source": []
  },
  {
   "cell_type": "markdown",
   "id": "fff56e07",
   "metadata": {},
   "source": [
    "b)\tIf the fruit vendor sells Apples at  $\\$4$ each, Oranges at $\\$2$ each and Guava at $\\$3$ each, what would be the total amount he earns after selling all the fruits? "
   ]
  },
  {
   "cell_type": "code",
   "execution_count": null,
   "id": "5e92176f",
   "metadata": {},
   "outputs": [],
   "source": []
  },
  {
   "cell_type": "markdown",
   "id": "f0810178",
   "metadata": {},
   "source": [
    "*The quotes around the names of the fruits may not be recognized by Python. If you encounter this problem, you will need to manually change the quotes to those that Python recognizes. "
   ]
  },
  {
   "cell_type": "markdown",
   "id": "2ba785d4",
   "metadata": {},
   "source": [
    "#### _feedabck(graders)_\n",
    "\n",
    "\n",
    "\n",
    "\n",
    "\n",
    "\n",
    "***"
   ]
  },
  {
   "cell_type": "markdown",
   "id": "3e32f878",
   "metadata": {},
   "source": [
    "                                               << The End >>"
   ]
  }
 ],
 "metadata": {
  "kernelspec": {
   "display_name": "Python 3",
   "language": "python",
   "name": "python3"
  },
  "language_info": {
   "codemirror_mode": {
    "name": "ipython",
    "version": 3
   },
   "file_extension": ".py",
   "mimetype": "text/x-python",
   "name": "python",
   "nbconvert_exporter": "python",
   "pygments_lexer": "ipython3",
   "version": "3.8.8"
  }
 },
 "nbformat": 4,
 "nbformat_minor": 5
}
